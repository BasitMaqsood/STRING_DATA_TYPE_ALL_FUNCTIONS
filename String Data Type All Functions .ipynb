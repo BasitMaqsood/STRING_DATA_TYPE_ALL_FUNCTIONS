{
 "cells": [
  {
   "cell_type": "markdown",
   "metadata": {},
   "source": [
    "# PIAIC"
   ]
  },
  {
   "cell_type": "markdown",
   "metadata": {},
   "source": [
    "# BATCH 3 \n"
   ]
  },
  {
   "cell_type": "markdown",
   "metadata": {},
   "source": [
    "### Quater 1\n"
   ]
  },
  {
   "cell_type": "markdown",
   "metadata": {},
   "source": [
    "# Roll No. PIAIC75706"
   ]
  },
  {
   "cell_type": "markdown",
   "metadata": {},
   "source": [
    "## Timing: 3:30 PM to 6:30 PM"
   ]
  },
  {
   "cell_type": "markdown",
   "metadata": {},
   "source": [
    "# String Data Types all Methods "
   ]
  },
  {
   "cell_type": "code",
   "execution_count": 1,
   "metadata": {},
   "outputs": [],
   "source": [
    "intro = \"my name is Basit Maqsood and i am a Programmer\""
   ]
  },
  {
   "cell_type": "markdown",
   "metadata": {},
   "source": [
    "## All String Methods"
   ]
  },
  {
   "cell_type": "code",
   "execution_count": 2,
   "metadata": {},
   "outputs": [
    {
     "data": {
      "text/plain": [
       "['__add__',\n",
       " '__class__',\n",
       " '__contains__',\n",
       " '__delattr__',\n",
       " '__dir__',\n",
       " '__doc__',\n",
       " '__eq__',\n",
       " '__format__',\n",
       " '__ge__',\n",
       " '__getattribute__',\n",
       " '__getitem__',\n",
       " '__getnewargs__',\n",
       " '__gt__',\n",
       " '__hash__',\n",
       " '__init__',\n",
       " '__init_subclass__',\n",
       " '__iter__',\n",
       " '__le__',\n",
       " '__len__',\n",
       " '__lt__',\n",
       " '__mod__',\n",
       " '__mul__',\n",
       " '__ne__',\n",
       " '__new__',\n",
       " '__reduce__',\n",
       " '__reduce_ex__',\n",
       " '__repr__',\n",
       " '__rmod__',\n",
       " '__rmul__',\n",
       " '__setattr__',\n",
       " '__sizeof__',\n",
       " '__str__',\n",
       " '__subclasshook__',\n",
       " 'capitalize',\n",
       " 'casefold',\n",
       " 'center',\n",
       " 'count',\n",
       " 'encode',\n",
       " 'endswith',\n",
       " 'expandtabs',\n",
       " 'find',\n",
       " 'format',\n",
       " 'format_map',\n",
       " 'index',\n",
       " 'isalnum',\n",
       " 'isalpha',\n",
       " 'isascii',\n",
       " 'isdecimal',\n",
       " 'isdigit',\n",
       " 'isidentifier',\n",
       " 'islower',\n",
       " 'isnumeric',\n",
       " 'isprintable',\n",
       " 'isspace',\n",
       " 'istitle',\n",
       " 'isupper',\n",
       " 'join',\n",
       " 'ljust',\n",
       " 'lower',\n",
       " 'lstrip',\n",
       " 'maketrans',\n",
       " 'partition',\n",
       " 'replace',\n",
       " 'rfind',\n",
       " 'rindex',\n",
       " 'rjust',\n",
       " 'rpartition',\n",
       " 'rsplit',\n",
       " 'rstrip',\n",
       " 'split',\n",
       " 'splitlines',\n",
       " 'startswith',\n",
       " 'strip',\n",
       " 'swapcase',\n",
       " 'title',\n",
       " 'translate',\n",
       " 'upper',\n",
       " 'zfill']"
      ]
     },
     "execution_count": 2,
     "metadata": {},
     "output_type": "execute_result"
    }
   ],
   "source": [
    "dir(intro)"
   ]
  },
  {
   "cell_type": "markdown",
   "metadata": {},
   "source": [
    "### capitalize()"
   ]
  },
  {
   "cell_type": "code",
   "execution_count": 3,
   "metadata": {},
   "outputs": [
    {
     "name": "stdout",
     "output_type": "stream",
     "text": [
      "Before: my name is basit maqsood\n",
      "After: My name is basit maqsood\n"
     ]
    }
   ],
   "source": [
    "# it's convert the first character of a string to capital (uppercase) letter\n",
    "intro = \"my name is basit maqsood\"\n",
    "print(\"Before:\", intro)\n",
    "print(\"After:\", intro.capitalize())  "
   ]
  },
  {
   "cell_type": "markdown",
   "metadata": {},
   "source": [
    "### casefold()"
   ]
  },
  {
   "cell_type": "code",
   "execution_count": 4,
   "metadata": {},
   "outputs": [
    {
     "name": "stdout",
     "output_type": "stream",
     "text": [
      "Before: My name is Basit Maqsood and I am a Programmer\n",
      "After: my name is basit maqsood and i am a programmer\n"
     ]
    }
   ],
   "source": [
    "intro = \"My name is Basit Maqsood and I am a Programmer\"\n",
    "print(\"Before:\", intro)\n",
    "print(\"After:\", intro.casefold())  \n",
    "#It's removes all case distinctions present in a string means convert whole string to lower case"
   ]
  },
  {
   "cell_type": "markdown",
   "metadata": {},
   "source": [
    "### center(n)"
   ]
  },
  {
   "cell_type": "code",
   "execution_count": 5,
   "metadata": {},
   "outputs": [
    {
     "name": "stdout",
     "output_type": "stream",
     "text": [
      "Before: My name is Basit Maqsood and I am a Programmer\n",
      "After:      My name is Basit Maqsood and I am a Programmer    \n"
     ]
    }
   ],
   "source": [
    "#it's allign string to the center by filling paddings left and right of the string means gives empty spaces from both sides \n",
    "# and you gives the number of spaces as an argument according to the need\n",
    "intro = \"My name is Basit Maqsood and I am a Programmer\"\n",
    "print(\"Before:\", intro)\n",
    "print(\"After:\", intro.center(55))"
   ]
  },
  {
   "cell_type": "markdown",
   "metadata": {},
   "source": [
    "### count(str)"
   ]
  },
  {
   "cell_type": "code",
   "execution_count": 6,
   "metadata": {},
   "outputs": [
    {
     "name": "stdout",
     "output_type": "stream",
     "text": [
      "No. of Substrings : 2\n"
     ]
    }
   ],
   "source": [
    "#it's find the occurrences of a substring in a given string, in parameter you have to pass that substring\n",
    "# and it's returns the integer value \n",
    "intro = \"My name is Basit Maqsood and I am a Computer Scientist and Data Scientist\"\n",
    "print(\"No. of Substrings :\", intro.count('Scientist'))"
   ]
  },
  {
   "cell_type": "markdown",
   "metadata": {},
   "source": [
    "### encode()"
   ]
  },
  {
   "cell_type": "code",
   "execution_count": 7,
   "metadata": {},
   "outputs": [
    {
     "name": "stdout",
     "output_type": "stream",
     "text": [
      "The string is: i love pythön!\n",
      "The encoded version is: b'i love pyth\\xc3\\xb6n!'\n"
     ]
    }
   ],
   "source": [
    "#it's return the encoded version of the given string e.g it's convert(encode) unicode to utf-8 by default \n",
    "# str.encode(encoding='UTF-8',errors='strict')\n",
    "\n",
    "string = 'i love pythön!'\n",
    "# print string\n",
    "print('The string is:', string)\n",
    "\n",
    "# default encoding to utf-8\n",
    "string_utf = string.encode()\n",
    "\n",
    "# print result\n",
    "print('The encoded version is:', string_utf)"
   ]
  },
  {
   "cell_type": "markdown",
   "metadata": {},
   "source": [
    "### endswith(str)"
   ]
  },
  {
   "cell_type": "code",
   "execution_count": 8,
   "metadata": {},
   "outputs": [
    {
     "name": "stdout",
     "output_type": "stream",
     "text": [
      "Is this string ends with 'a Programmer' : True\n",
      "Is this string ends with 'a Python' : False\n"
     ]
    }
   ],
   "source": [
    "# it's returns True if a string ends with the given suffix otherwise returns False\n",
    "intro = \"My name is Basit Maqsood and I am a Programmer\"\n",
    "print(\"Is this string ends with 'a Programmer' :\", intro.endswith(\"a Programmer\"))\n",
    "print(\"Is this string ends with 'a Python' :\", intro.endswith(\"a Python\"))\n"
   ]
  },
  {
   "cell_type": "markdown",
   "metadata": {},
   "source": [
    "### expandtabs(n)"
   ]
  },
  {
   "cell_type": "code",
   "execution_count": 9,
   "metadata": {},
   "outputs": [
    {
     "name": "stdout",
     "output_type": "stream",
     "text": [
      "Bydefault is 8: My      name    is      Basit   Maqsood\n",
      "With Parameter is 2: My  name  is  Basit Maqsood\n"
     ]
    }
   ],
   "source": [
    "# it's return a copy of string with all tab characters '\\t' replaced with whitespace characters\n",
    "# until the next multiple of tabsize parameter\n",
    "intro = \"My\\tname\\tis\\tBasit\\tMaqsood\"\n",
    "print(\"Bydefault is 8:\", intro.expandtabs())\n",
    "print(\"With Parameter is 2:\", intro.expandtabs(2))"
   ]
  },
  {
   "cell_type": "markdown",
   "metadata": {},
   "source": [
    "#### find(str)"
   ]
  },
  {
   "cell_type": "code",
   "execution_count": 10,
   "metadata": {},
   "outputs": [
    {
     "name": "stdout",
     "output_type": "stream",
     "text": [
      "Substring 'Basit' found at index: 17\n"
     ]
    }
   ],
   "source": [
    "# it's determines if string str occurs in string, or in a substring of string if starting index beg\n",
    "# and ending index end are given\n",
    "# str.find(str, beg=0, end=len(string))\n",
    "\n",
    "intro = \"My name is Basit Maqsood and I am a Programmer\"\n",
    "find_str = \"Maqsood\"\n",
    "print(\"Substring 'Basit' found at index:\", intro.find(find_str))"
   ]
  },
  {
   "cell_type": "markdown",
   "metadata": {},
   "source": [
    "### format(str, str, str, ....)"
   ]
  },
  {
   "cell_type": "code",
   "execution_count": 11,
   "metadata": {},
   "outputs": [
    {
     "name": "stdout",
     "output_type": "stream",
     "text": [
      "My name is Basit and I am a Computer scientist and Data Scientist\n"
     ]
    }
   ],
   "source": [
    "# it's allows multiple substitutions and value formatting,\n",
    "# This method lets us concatenate elements within a string through positional formatting\n",
    "print(\"My name is {2} and I am a {0} and {1}\" \n",
    "      .format(\"Computer scientist\", \"Data Scientist\", \"Basit\")) "
   ]
  },
  {
   "cell_type": "markdown",
   "metadata": {},
   "source": [
    "### format_map(dict)"
   ]
  },
  {
   "cell_type": "code",
   "execution_count": 12,
   "metadata": {},
   "outputs": [
    {
     "name": "stdout",
     "output_type": "stream",
     "text": [
      "My name is Basit Maqsood and my profession is Computer Scientist\n"
     ]
    }
   ],
   "source": [
    "# it's used to return an dictionary key’s value\n",
    "intro = {'name':'Basit Maqsood', 'profession':'Computer Scientist'} \n",
    "print(\"My name is {name} and my profession is {profession}\".format_map(intro)) "
   ]
  },
  {
   "cell_type": "markdown",
   "metadata": {},
   "source": [
    "### index(str)"
   ]
  },
  {
   "cell_type": "code",
   "execution_count": 13,
   "metadata": {},
   "outputs": [
    {
     "name": "stdout",
     "output_type": "stream",
     "text": [
      "3\n",
      "3\n"
     ]
    }
   ],
   "source": [
    "#it's determine if string str occurs in string\n",
    "# or in a substring of string if starting index beg and ending index end are given\n",
    "#index begin and end are optional\n",
    "\n",
    "intro = \"My name is Basit Maqsood and I am a Programmer\"\n",
    "print(intro.index('name'))\n",
    "print(intro.index('name', 1, 7))"
   ]
  },
  {
   "cell_type": "markdown",
   "metadata": {},
   "source": [
    "### isalnum()"
   ]
  },
  {
   "cell_type": "code",
   "execution_count": 14,
   "metadata": {},
   "outputs": [
    {
     "name": "stdout",
     "output_type": "stream",
     "text": [
      "True\n",
      "False\n"
     ]
    }
   ],
   "source": [
    "#it's check whether all the characters in a given string is alphanumeric or not \n",
    "#it's return True if all characters in the string are alphanumeric\n",
    "# it's return False if at least one character is not alphanumeric\n",
    "\n",
    "intro = \"BasitMaqsood14\"\n",
    "print(intro.isalnum())\n",
    "\n",
    "# This sentence contains whitespace\n",
    "intro = \"My name is Basit Maqsood and I've done my 16 years education\"\n",
    "print(intro.isalnum())\n",
    "\n"
   ]
  },
  {
   "cell_type": "markdown",
   "metadata": {},
   "source": [
    "### isalpha()"
   ]
  },
  {
   "cell_type": "code",
   "execution_count": 15,
   "metadata": {},
   "outputs": [
    {
     "name": "stdout",
     "output_type": "stream",
     "text": [
      "True\n",
      "False\n"
     ]
    }
   ],
   "source": [
    "# it's check for the presence of alphabets-only in a string\n",
    "username1 = 'BasitProgrammer'\n",
    "print(username1.isalpha())\n",
    "\n",
    "username2 = 'BasitProgrammer@14'\n",
    "print(username2.isalpha())"
   ]
  },
  {
   "cell_type": "markdown",
   "metadata": {},
   "source": [
    "### isascii()"
   ]
  },
  {
   "cell_type": "code",
   "execution_count": 16,
   "metadata": {},
   "outputs": [
    {
     "name": "stdout",
     "output_type": "stream",
     "text": [
      "True\n",
      "True\n"
     ]
    }
   ],
   "source": [
    "# it's check whether the string contains ASCII characters, \n",
    "# i.e checks whether the string is printable or not\n",
    "\n",
    "empty_string = '  '\n",
    "print(empty_string.isascii())\n",
    "\n",
    "username2 = 'BasitProgrammer@14'\n",
    "print(username2.isascii())"
   ]
  },
  {
   "cell_type": "markdown",
   "metadata": {},
   "source": [
    "### isdecimal()"
   ]
  },
  {
   "cell_type": "code",
   "execution_count": 17,
   "metadata": {},
   "outputs": [
    {
     "name": "stdout",
     "output_type": "stream",
     "text": [
      "True\n",
      "False\n"
     ]
    }
   ],
   "source": [
    "#it's return true if all characters in a string are decimal,\n",
    "# If all characters are not decimal then it returns false\n",
    "\n",
    "roll_no = \"093\"\n",
    "print(roll_no.isdecimal())\n",
    "\n",
    "username2 = 'BasitProgrammer@14'\n",
    "print(username2.isdecimal())"
   ]
  },
  {
   "cell_type": "markdown",
   "metadata": {},
   "source": [
    "### isdigit()"
   ]
  },
  {
   "cell_type": "code",
   "execution_count": 18,
   "metadata": {},
   "outputs": [
    {
     "name": "stdout",
     "output_type": "stream",
     "text": [
      "True\n",
      "False\n"
     ]
    }
   ],
   "source": [
    "# it's return “True” if all characters in the string are digits, \n",
    "# Otherwise, Ita return “False”\n",
    "\n",
    "phone_no = \"123456777\";  \n",
    "print(phone_no.isdigit()) \n",
    "\n",
    "phone_no = \"My Phone no. is 123456777\";  \n",
    "print(phone_no.isdigit()) "
   ]
  },
  {
   "cell_type": "markdown",
   "metadata": {},
   "source": [
    "### isidentifier()"
   ]
  },
  {
   "cell_type": "code",
   "execution_count": 19,
   "metadata": {},
   "outputs": [
    {
     "name": "stdout",
     "output_type": "stream",
     "text": [
      "Is this valid identifier:  True\n",
      "Is this valid identifier:  False\n"
     ]
    }
   ],
   "source": [
    "# it's used to check whether a string is a valid identifier or not\n",
    "\n",
    "variable_name = \"sum\"\n",
    "result = variable_name.isidentifier() \n",
    "print(\"Is this valid identifier: \", result)\n",
    "\n",
    "variable_name1 = \"14sum\"\n",
    "result = variable_name1.isidentifier() \n",
    "print(\"Is this valid identifier: \", result)\n"
   ]
  },
  {
   "cell_type": "markdown",
   "metadata": {},
   "source": [
    "### islower()"
   ]
  },
  {
   "cell_type": "code",
   "execution_count": 20,
   "metadata": {},
   "outputs": [
    {
     "name": "stdout",
     "output_type": "stream",
     "text": [
      "True\n",
      "False\n"
     ]
    }
   ],
   "source": [
    "# check the given string has at least one character,\n",
    "# and the character is either in lowercase, or not.\n",
    "# If it is lower then the function will return True otherwise, it returns False\n",
    "\n",
    "username = \"basitmaqsood\"\n",
    "print(username.islower())\n",
    "\n",
    "username = \"BasitMaqsood\"\n",
    "print(username.islower())"
   ]
  },
  {
   "cell_type": "markdown",
   "metadata": {},
   "source": [
    "### isnumeric()"
   ]
  },
  {
   "cell_type": "code",
   "execution_count": 21,
   "metadata": {},
   "outputs": [
    {
     "name": "stdout",
     "output_type": "stream",
     "text": [
      "True\n",
      "False\n"
     ]
    }
   ],
   "source": [
    "#it's return “True” if all characters in the string are numeric characters,\n",
    "# Otherwise, It returns “False”\n",
    "\n",
    "postal_code = \"44000\"\n",
    "print(postal_code.isnumeric())\n",
    "\n",
    "weight = \"47Kg\"\n",
    "print(weight.isnumeric())\n",
    "\n"
   ]
  },
  {
   "cell_type": "markdown",
   "metadata": {},
   "source": [
    "### isprintable()"
   ]
  },
  {
   "cell_type": "code",
   "execution_count": 22,
   "metadata": {},
   "outputs": [
    {
     "name": "stdout",
     "output_type": "stream",
     "text": [
      "True\n",
      "False\n"
     ]
    }
   ],
   "source": [
    "# it's return “True” if all characters in the string are printable or the string is empty\n",
    "# Otherwise, It returns “False”\n",
    "\n",
    "intro = \"My name is Basit Maqsood\"\n",
    "print(intro.isprintable())\n",
    "\n",
    "# as \\n is escape sequence not printable\n",
    "intro1 = \"My name \\n is \\n Basit Maqsood\"\n",
    "print(intro1.isprintable())"
   ]
  },
  {
   "cell_type": "markdown",
   "metadata": {},
   "source": [
    "### isspace()"
   ]
  },
  {
   "cell_type": "code",
   "execution_count": 23,
   "metadata": {},
   "outputs": [
    {
     "name": "stdout",
     "output_type": "stream",
     "text": [
      "False\n",
      "False\n",
      "True\n",
      "True\n",
      "False\n",
      "False\n"
     ]
    }
   ],
   "source": [
    "# it's return “True” if all characters in the string are whitespace characters,\n",
    "# Otherwise, It returns “False”\n",
    "\n",
    "full_name = \"My name is Basit Maqsood\"\n",
    "print(full_name.isspace())\n",
    "\n",
    "full_name1 = \"Basit Maqsood\"\n",
    "print(full_name1.isspace())\n",
    "\n",
    "full_name2 = \"\\t \\t\"\n",
    "print(full_name2.isspace())\n",
    "\n",
    "full_name2 = \"\\n \\n\"\n",
    "print(full_name2.isspace())\n",
    "\n",
    "full_name3 = \"My\\tName\\tis\\tBasit Maqsood\"\n",
    "print(full_name3.isspace())\n",
    "\n",
    "full_name4 = \"My\\nName\\nis\\nBasit\\nMaqsood\"\n",
    "print(full_name4.isspace())\n",
    "\n"
   ]
  },
  {
   "cell_type": "markdown",
   "metadata": {},
   "source": [
    "### istitle()"
   ]
  },
  {
   "cell_type": "code",
   "execution_count": 24,
   "metadata": {},
   "outputs": [
    {
     "name": "stdout",
     "output_type": "stream",
     "text": [
      "True\n",
      "False\n"
     ]
    }
   ],
   "source": [
    "# it's return True if the string is title cased and not empty, otherwise it returns False\n",
    "\n",
    "story_title = \"A Dove And The Bee\"\n",
    "print(story_title.istitle())\n",
    "\n",
    "story_title = \"A Dove and The bee\"\n",
    "print(story_title.istitle())"
   ]
  },
  {
   "cell_type": "markdown",
   "metadata": {},
   "source": [
    "### isupper()"
   ]
  },
  {
   "cell_type": "code",
   "execution_count": 25,
   "metadata": {},
   "outputs": [
    {
     "name": "stdout",
     "output_type": "stream",
     "text": [
      "True\n",
      "False\n"
     ]
    }
   ],
   "source": [
    "# used to check whether the given string has at least one character, \n",
    "# and the character is either in uppercase, or not.\n",
    "# If it is in Uppercase then the function will return True otherwise, it returns False\n",
    "\n",
    "name = \"BASIT MAQSOOD\"\n",
    "print(name.isupper())\n",
    "\n",
    "name1 = \"Basit Maqsood\"\n",
    "print(name1.isupper())"
   ]
  },
  {
   "cell_type": "markdown",
   "metadata": {},
   "source": [
    "### seperator.join(numTuple| numList | str)"
   ]
  },
  {
   "cell_type": "code",
   "execution_count": 26,
   "metadata": {},
   "outputs": [
    {
     "name": "stdout",
     "output_type": "stream",
     "text": [
      "['1', '2', '3', '4']\n",
      "1, 2, 3, 4\n",
      "('1', '2', '3', '4')\n",
      "1, 2, 3, 4\n",
      "a123b123c\n",
      "Python--->Java--->JavaScript\n"
     ]
    }
   ],
   "source": [
    "# it's a string method which returns a string concatenated with the elements of an iterable\n",
    "\n",
    "numList = ['1', '2', '3', '4']\n",
    "seperator = ', '\n",
    "print(numList)\n",
    "print(seperator.join(numList))\n",
    "\n",
    "numTuple = ('1', '2', '3', '4')\n",
    "print(numTuple)\n",
    "print(seperator.join(numTuple))\n",
    "\n",
    "# Each character of set_1 is concatenated to the front of set_2\n",
    "str_1 = \"abc\"\n",
    "str_2 = \"123\" \n",
    "\n",
    "\n",
    "print(str_2.join(str_1))\n",
    "\n",
    "prog_lang_set = {'Python', 'Java', 'JavaScript'}\n",
    "s = '--->'\n",
    "print(s.join(prog_lang_set))\n"
   ]
  },
  {
   "cell_type": "markdown",
   "metadata": {},
   "source": [
    "### ljust(n, charater)"
   ]
  },
  {
   "cell_type": "code",
   "execution_count": 27,
   "metadata": {},
   "outputs": [
    {
     "name": "stdout",
     "output_type": "stream",
     "text": [
      "I am  a Data Scientist !!!!!!!!!!!!!!!!!!!!!!!!!!!\n",
      ">>>>>>>>>>>>>>>>>>>>>>>>>>> I am  a Data Scientist\n"
     ]
    }
   ],
   "source": [
    "# it's return the string left justified in a string of length width,\n",
    "# Padding is done using the specified fillchar (default is a space),\n",
    "# The original string is returned if width is less than len(s)\n",
    "\n",
    "msg = \"I am  a Data Scientist \";\n",
    "print(msg.ljust(50, '!'))\n",
    "\n",
    "msg = \" I am  a Data Scientist\";\n",
    "print(msg.rjust(50, '>'))"
   ]
  },
  {
   "cell_type": "markdown",
   "metadata": {},
   "source": [
    "### lower()"
   ]
  },
  {
   "cell_type": "code",
   "execution_count": 28,
   "metadata": {},
   "outputs": [
    {
     "name": "stdout",
     "output_type": "stream",
     "text": [
      "basit maqsood\n"
     ]
    }
   ],
   "source": [
    "# it's return the lower cased string from the given string\n",
    "\n",
    "name = \"BASIT MAQSOOD\"\n",
    "print(name.lower())"
   ]
  },
  {
   "cell_type": "markdown",
   "metadata": {},
   "source": [
    "### lstrip()"
   ]
  },
  {
   "cell_type": "code",
   "execution_count": 29,
   "metadata": {},
   "outputs": [
    {
     "name": "stdout",
     "output_type": "stream",
     "text": [
      "I am the Best\n",
      "the Best\n"
     ]
    }
   ],
   "source": [
    "# it's remove characters from the left based on the argument (a string specifying the set of characters to be removed)\n",
    "\n",
    "str = \"    I am the Best\"\n",
    "# remove empty spaces from left\n",
    "print(str.lstrip())\n",
    "\n",
    "str = \"I am the Best\"\n",
    "\n",
    "#remove I am from the string\n",
    "print(str.lstrip(\"I am\"))"
   ]
  },
  {
   "cell_type": "markdown",
   "metadata": {},
   "source": [
    "### str.maketrans(dict)"
   ]
  },
  {
   "cell_type": "code",
   "execution_count": 30,
   "metadata": {},
   "outputs": [
    {
     "name": "stdout",
     "output_type": "stream",
     "text": [
      "{'a': '123', 'b': '456', 'c': '789', 'd': '999'}\n",
      "{97: '123', 98: '456', 99: '789', 100: '999'}\n",
      "{97: '123', 98: '456', 99: '789'}\n",
      "{97: '123', 98: '456', 99: '789'}\n"
     ]
    }
   ],
   "source": [
    "# it's return a mapping table for translation usable for translate() method\n",
    "# It creates a Unicode representation of each character for translation.\n",
    "\n",
    "dict = {\"a\": \"123\", \"b\": \"456\", \"c\": \"789\", \"d\": \"999\"}\n",
    "string = \"abc\"\n",
    "print(dict)\n",
    "print(string.maketrans(dict))\n",
    "\n",
    "dict2 = {97: \"123\", 98: \"456\", 99: \"789\"}\n",
    "string2 = \"abc\"\n",
    "print(dict2)\n",
    "print(string2.maketrans(dict2))\n",
    "\n",
    "#Note maketrans() creates a mapping of the character's Unicode ordinal to its corresponding translation,\n",
    "# So, 97 ('a') is mapped to '123', 98 'b' to 456 and 99 'c' to 789,\n",
    "#This can be demonstrated from the output of both dictionaries\n",
    "\n"
   ]
  },
  {
   "cell_type": "markdown",
   "metadata": {},
   "source": [
    "### str.maketrans(str, str)"
   ]
  },
  {
   "cell_type": "code",
   "execution_count": 31,
   "metadata": {},
   "outputs": [
    {
     "name": "stdout",
     "output_type": "stream",
     "text": [
      "{97: 103, 98: 104, 99: 105}\n"
     ]
    },
    {
     "ename": "ValueError",
     "evalue": "the first two maketrans arguments must have equal length",
     "output_type": "error",
     "traceback": [
      "\u001b[1;31m---------------------------------------------------------------------------\u001b[0m",
      "\u001b[1;31mValueError\u001b[0m                                Traceback (most recent call last)",
      "\u001b[1;32m<ipython-input-31-37a6db9c7a44>\u001b[0m in \u001b[0;36m<module>\u001b[1;34m\u001b[0m\n\u001b[0;32m      8\u001b[0m \u001b[0msecondString\u001b[0m \u001b[1;33m=\u001b[0m \u001b[1;34m\"defghi\"\u001b[0m\u001b[1;33m\u001b[0m\u001b[1;33m\u001b[0m\u001b[0m\n\u001b[0;32m      9\u001b[0m \u001b[0mstring\u001b[0m \u001b[1;33m=\u001b[0m \u001b[1;34m\"abc\"\u001b[0m\u001b[1;33m\u001b[0m\u001b[1;33m\u001b[0m\u001b[0m\n\u001b[1;32m---> 10\u001b[1;33m \u001b[0mprint\u001b[0m\u001b[1;33m(\u001b[0m\u001b[0mstring\u001b[0m\u001b[1;33m.\u001b[0m\u001b[0mmaketrans\u001b[0m\u001b[1;33m(\u001b[0m\u001b[0mfirstString\u001b[0m\u001b[1;33m,\u001b[0m \u001b[0msecondString\u001b[0m\u001b[1;33m)\u001b[0m\u001b[1;33m)\u001b[0m\u001b[1;33m\u001b[0m\u001b[1;33m\u001b[0m\u001b[0m\n\u001b[0m",
      "\u001b[1;31mValueError\u001b[0m: the first two maketrans arguments must have equal length"
     ]
    }
   ],
   "source": [
    "firstString = \"abc\"\n",
    "secondString = \"ghi\"\n",
    "string = \"abc\"\n",
    "print(string.maketrans(firstString, secondString))\n",
    "\n",
    "#the first two maketrans arguments must have equal length\n",
    "firstString = \"abc\"\n",
    "secondString = \"defghi\"\n",
    "string = \"abc\"\n",
    "print(string.maketrans(firstString, secondString))"
   ]
  },
  {
   "cell_type": "markdown",
   "metadata": {},
   "source": [
    "### partition(str)"
   ]
  },
  {
   "cell_type": "code",
   "execution_count": 32,
   "metadata": {},
   "outputs": [
    {
     "name": "stdout",
     "output_type": "stream",
     "text": [
      "('Be good ', 'and', ' Have good')\n",
      "('', 'People', ' are very kind')\n"
     ]
    }
   ],
   "source": [
    "# it's split the string at the first occurrence of the separator and returns a tuple containing the part the before separator,\n",
    "#separator and the part after the separator\n",
    "\n",
    "msg = \"Be good and Have good\"\n",
    "print(msg.partition(\"and\"))\n",
    "\n",
    "msg = \"People are very kind\"\n",
    "print(msg.partition(\"People\"))"
   ]
  },
  {
   "cell_type": "markdown",
   "metadata": {},
   "source": [
    "### partition(str, str)"
   ]
  },
  {
   "cell_type": "code",
   "execution_count": 33,
   "metadata": {},
   "outputs": [
    {
     "name": "stdout",
     "output_type": "stream",
     "text": [
      "Before:  basit is good in Programming\n",
      "After:  Basit is good in Programming\n"
     ]
    }
   ],
   "source": [
    "# it's return a copy of the string where all occurrences of a substring is replaced with another substring\n",
    "str = \"basit is good in Programming\"\n",
    "print(\"Before: \", str)\n",
    "print(\"After: \", str.replace(\"basit\", \"Basit\"))"
   ]
  },
  {
   "cell_type": "markdown",
   "metadata": {},
   "source": [
    "### str.rfind(str)"
   ]
  },
  {
   "cell_type": "code",
   "execution_count": 34,
   "metadata": {},
   "outputs": [
    {
     "name": "stdout",
     "output_type": "stream",
     "text": [
      "33\n",
      "9\n"
     ]
    }
   ],
   "source": [
    "# it's finds a substring in in the string and returns the highest index, \n",
    "# It means it returns the index of most righmost matched subtring of the string,\n",
    "# It returns -1 if substring not found\n",
    "str1 = \"Basit is good in Programming and good in logical reasoning\"\n",
    "\n",
    "print(str1.rfind(\"good\"))\n",
    "\n",
    "print(str1.find(\"good\"))\n"
   ]
  },
  {
   "cell_type": "markdown",
   "metadata": {},
   "source": [
    "### str.rindex(str)"
   ]
  },
  {
   "cell_type": "code",
   "execution_count": 35,
   "metadata": {},
   "outputs": [
    {
     "name": "stdout",
     "output_type": "stream",
     "text": [
      "33\n",
      "9\n"
     ]
    }
   ],
   "source": [
    "#it's return the last index where the substring str is found, or raises an exception if no such index exists,\n",
    "#optionally restricting the search to string[beg:end]\n",
    "\n",
    "#str.rindex(str, beg=0 end=len(string))\n",
    "str1 = \"Basit is good in Programming and good in logical reasoning\"\n",
    "\n",
    "print(str1.rindex(\"good\"))\n",
    "print(str1.index(\"good\"))\n"
   ]
  },
  {
   "cell_type": "markdown",
   "metadata": {},
   "source": [
    "### str.ljust(length, char)"
   ]
  },
  {
   "cell_type": "code",
   "execution_count": 36,
   "metadata": {},
   "outputs": [
    {
     "name": "stdout",
     "output_type": "stream",
     "text": [
      "Python****\n",
      "****Python\n"
     ]
    }
   ],
   "source": [
    "#it's return a new string of given length after substituting a given character in right side of original string\n",
    "\n",
    "string = 'Python'\n",
    "length = 10 # total length of string\n",
    "fillchar = '*'\n",
    "\n",
    "# print left justified string \n",
    "print(string.ljust(length, fillchar))\n",
    "\n",
    "#it's return a new string of given length after substituting a given character in left side of original string\n",
    "\n",
    "print(string.rjust(length, fillchar))\n",
    "\n"
   ]
  },
  {
   "cell_type": "markdown",
   "metadata": {},
   "source": [
    "### str.rpartition(character)"
   ]
  },
  {
   "cell_type": "code",
   "execution_count": 37,
   "metadata": {},
   "outputs": [
    {
     "name": "stdout",
     "output_type": "stream",
     "text": [
      "('Do good - and -  have good ', '-', ' be good')\n"
     ]
    }
   ],
   "source": [
    "# it's split the given string into three parts. rpartition() start looking for separator from right side,\n",
    "# till the separator is found and return a tuple which contains part of the string before separator,\n",
    "# argument of the string and the part after the separator\n",
    "\n",
    "msg = \"Do good - and -  have good - be good\"\n",
    "print(msg.rpartition('-'))"
   ]
  },
  {
   "cell_type": "markdown",
   "metadata": {},
   "source": [
    "### str.rsplit(char, n)"
   ]
  },
  {
   "cell_type": "code",
   "execution_count": 38,
   "metadata": {},
   "outputs": [
    {
     "name": "stdout",
     "output_type": "stream",
     "text": [
      "['Do good - and -  have good ', ' be good']\n",
      "['Do good - and ', '  have good ', ' be good']\n",
      "['Do good ', ' and ', '  have good ', ' be good']\n"
     ]
    }
   ],
   "source": [
    "#it's return a list of strings after breaking the given string from right side by the specified separator,\n",
    "# Parameters : separator : The is a delimiter,\n",
    "# The string splits at this specified separator starting from right side\n",
    "\n",
    "msg = \"Do good - and -  have good - be good\"\n",
    "# maxsplit: 1\n",
    "print(msg.rsplit('-', 1))\n",
    "# maxsplit: 2\n",
    "print(msg.rsplit('-', 2))\n",
    "print(msg.split('-'))"
   ]
  },
  {
   "cell_type": "markdown",
   "metadata": {},
   "source": [
    "### str.rstrip(str)"
   ]
  },
  {
   "cell_type": "code",
   "execution_count": 39,
   "metadata": {},
   "outputs": [
    {
     "name": "stdout",
     "output_type": "stream",
     "text": [
      "you are g\n"
     ]
    }
   ],
   "source": [
    "# it's returns a copy of the string with trailing characters removed (based on the string argument passed)\n",
    "# from right side\n",
    "\n",
    "str = 'you are good'\n",
    "print(str.rstrip(\"od\"))"
   ]
  },
  {
   "cell_type": "markdown",
   "metadata": {},
   "source": [
    "### str.split(character)"
   ]
  },
  {
   "cell_type": "code",
   "execution_count": 40,
   "metadata": {},
   "outputs": [
    {
     "name": "stdout",
     "output_type": "stream",
     "text": [
      "['you ', ' are ', ' good']\n",
      "['you ', ' are - good']\n"
     ]
    }
   ],
   "source": [
    "# it's returns a list of strings after breaking the given string by the specified separator\n",
    "#str.split(separator, maxsplit)\n",
    "\n",
    "str = 'you - are - good'\n",
    "print(str.split(\"-\"))\n",
    "#maxSplit one\n",
    "print(str.split(\"-\", 1))"
   ]
  },
  {
   "cell_type": "markdown",
   "metadata": {},
   "source": [
    "### splitlines()"
   ]
  },
  {
   "cell_type": "code",
   "execution_count": 41,
   "metadata": {},
   "outputs": [
    {
     "name": "stdout",
     "output_type": "stream",
     "text": [
      "['Python ', ' is a scripting ', ' language']\n"
     ]
    }
   ],
   "source": [
    "#it's split the string based on the lines. It breaks the string at line boundaries and returns a list of splitted strings\n",
    "str = \"Python \\n is a scripting \\r language\"  \n",
    "print(str.splitlines())  # returns a list having splitted elements  \n"
   ]
  },
  {
   "cell_type": "markdown",
   "metadata": {},
   "source": [
    "### str.startswith(str)"
   ]
  },
  {
   "cell_type": "code",
   "execution_count": 42,
   "metadata": {},
   "outputs": [
    {
     "name": "stdout",
     "output_type": "stream",
     "text": [
      "True\n",
      "True\n",
      "False\n"
     ]
    }
   ],
   "source": [
    "#it's return True if a string starts with the specified prefix(string). If not, it returns False\n",
    "\n",
    "str = \"~Basit Maqsood\"\n",
    "print(str.startswith(\"~\"))\n",
    "print(str.startswith(\"~Basit\"))\n",
    "print(str.startswith(\"*\"))"
   ]
  },
  {
   "cell_type": "markdown",
   "metadata": {},
   "source": [
    "### str.strip(str)"
   ]
  },
  {
   "cell_type": "code",
   "execution_count": 43,
   "metadata": {},
   "outputs": [
    {
     "name": "stdout",
     "output_type": "stream",
     "text": [
      "Before:  Hello, My Friend\n",
      "My Friend\n"
     ]
    }
   ],
   "source": [
    "#it's return a copy of the string with both leading \n",
    "#and trailing characters removed (based on the string argument passed)\n",
    "\n",
    "str = \"Hello, My Friend\"\n",
    "print(\"Before: \", str)\n",
    "print(str.strip(\"Hello, \"))"
   ]
  },
  {
   "cell_type": "markdown",
   "metadata": {},
   "source": [
    "### swapcase()"
   ]
  },
  {
   "cell_type": "code",
   "execution_count": 44,
   "metadata": {},
   "outputs": [
    {
     "name": "stdout",
     "output_type": "stream",
     "text": [
      "Before:  GoOd MoRnInG\n",
      "After:  gOoD mOrNiNg\n"
     ]
    }
   ],
   "source": [
    "#it's convert all uppercase characters to lowercase and vice versa of the given string\n",
    "\n",
    "moring_msg = \"GoOd MoRnInG\"\n",
    "print(\"Before: \", moring_msg)\n",
    "print(\"After: \", moring_msg.swapcase())"
   ]
  },
  {
   "cell_type": "markdown",
   "metadata": {},
   "source": [
    "### title()"
   ]
  },
  {
   "cell_type": "code",
   "execution_count": 45,
   "metadata": {},
   "outputs": [
    {
     "name": "stdout",
     "output_type": "stream",
     "text": [
      "Before:  Union is strength\n",
      "After:  Union Is Strength\n"
     ]
    }
   ],
   "source": [
    "#it's convert the first character in each word to Uppercase and remaining characters to Lowercase in string\n",
    "# and returns new string\n",
    "\n",
    "moral_lesson =\"Union is strength\"\n",
    "print(\"Before: \", moral_lesson)\n",
    "print(\"After: \", moral_lesson.title())"
   ]
  },
  {
   "cell_type": "markdown",
   "metadata": {},
   "source": [
    "### translation = string.maketrans(str, str, str)"
   ]
  },
  {
   "cell_type": "markdown",
   "metadata": {},
   "source": [
    "### str.translate(translation)"
   ]
  },
  {
   "cell_type": "code",
   "execution_count": 46,
   "metadata": {},
   "outputs": [
    {
     "name": "stdout",
     "output_type": "stream",
     "text": [
      "Original string: abcdef\n",
      "Example 1:\n",
      "{97: None, 98: None, 99: 105}\n",
      "Translated string: idef\n",
      "Example 2:\n",
      "{97: 103, 98: 104, 99: 105}\n",
      "Translated string: ghidef\n"
     ]
    }
   ],
   "source": [
    "#it's take the translation table to replace/translate characters in the given string as per the mapping table\n",
    "\n",
    "# first string\n",
    "firstString = \"abc\"\n",
    "secondString = \"ghi\"\n",
    "thirdString = \"ab\"\n",
    "\n",
    "string = \"abcdef\"\n",
    "print(\"Original string:\", string)\n",
    "\n",
    "#Example 1\n",
    "print(\"Example 1:\")\n",
    "translation = string.maketrans(firstString, secondString, thirdString)\n",
    "print(translation)\n",
    "\n",
    "# translate string\n",
    "print(\"Translated string:\", string.translate(translation))\n",
    "#Explanation:\n",
    "#Here, the translation mapping translation contains the mapping from a, b and c to g, h and i respectively.\n",
    "#But, the removal string thirdString resets the mapping to a and b to None.\n",
    "#So, when the string is translated using translate(), a and b are removed, and c is replaced i outputting idef\n",
    "\n",
    "#Exaple 2\n",
    "print(\"Example 2:\")\n",
    "translation = string.maketrans(firstString, secondString)\n",
    "print(translation)\n",
    "\n",
    "# translate string\n",
    "print(\"Translated string:\", string.translate(translation))\n",
    "\n",
    "#Here, the translation mapping translation contains the mapping from a, b and c to g, h and i respectively.\n",
    "#So, when the string is translated using translate(), a, b and c is replaced with g, h, i outputting ghidef"
   ]
  },
  {
   "cell_type": "markdown",
   "metadata": {},
   "source": [
    "### upper()"
   ]
  },
  {
   "cell_type": "code",
   "execution_count": 47,
   "metadata": {},
   "outputs": [
    {
     "name": "stdout",
     "output_type": "stream",
     "text": [
      "Before:  i am the best\n",
      "Before:  I AM THE BEST\n"
     ]
    }
   ],
   "source": [
    "#it's return the uppercased string from the given string. It converts all lowercase characters to uppercase,\n",
    "# If no lowercase characters exist, it returns the original string\n",
    "\n",
    "str_lower = \"i am the best\"\n",
    "print(\"Before: \", str_lower)\n",
    "print(\"Before: \", str_lower.upper())\n"
   ]
  },
  {
   "cell_type": "markdown",
   "metadata": {},
   "source": [
    "### str.zfill(n)"
   ]
  },
  {
   "cell_type": "code",
   "execution_count": 48,
   "metadata": {},
   "outputs": [
    {
     "name": "stdout",
     "output_type": "stream",
     "text": [
      "000000000000125678\n"
     ]
    }
   ],
   "source": [
    "#it's fill the string at left with 0 digit to make a string of length width,\n",
    "#It returns a string contains a sign prefix + or - before the 0 digit\n",
    "\n",
    "name = \"125678\"\n",
    "print(name.zfill(18))"
   ]
  },
  {
   "cell_type": "markdown",
   "metadata": {},
   "source": [
    "## Apply Random Operators on 20 oprand"
   ]
  },
  {
   "cell_type": "code",
   "execution_count": 49,
   "metadata": {},
   "outputs": [
    {
     "data": {
      "text/plain": [
       "203.39999999999998"
      ]
     },
     "execution_count": 49,
     "metadata": {},
     "output_type": "execute_result"
    }
   ],
   "source": [
    "14 + (19 * 11) + 2 / 25 // 5 ** 8 - 13 % 5 + (16/4) *\\\n",
    "18 - 13 / 5 + 9 % 12 + (18 % 2) + 5 - 100                         # 20 operators\n",
    "\n"
   ]
  },
  {
   "cell_type": "code",
   "execution_count": null,
   "metadata": {},
   "outputs": [],
   "source": []
  }
 ],
 "metadata": {
  "kernelspec": {
   "display_name": "Python 3",
   "language": "python",
   "name": "python3"
  },
  "language_info": {
   "codemirror_mode": {
    "name": "ipython",
    "version": 3
   },
   "file_extension": ".py",
   "mimetype": "text/x-python",
   "name": "python",
   "nbconvert_exporter": "python",
   "pygments_lexer": "ipython3",
   "version": "3.7.3"
  }
 },
 "nbformat": 4,
 "nbformat_minor": 2
}
